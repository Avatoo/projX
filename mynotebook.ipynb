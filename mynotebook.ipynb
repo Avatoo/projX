{
    "metadata": {
        "language_info": {
            "codemirror_mode": "r", 
            "pygments_lexer": "r", 
            "file_extension": ".r", 
            "name": "R", 
            "version": "3.3.2", 
            "mimetype": "text/x-r-source"
        }, 
        "kernelspec": {
            "language": "R", 
            "display_name": "R with Spark 2.1", 
            "name": "r-spark21"
        }
    }, 
    "nbformat": 4, 
    "cells": [
        {
            "metadata": {}, 
            "execution_count": 3, 
            "cell_type": "code", 
            "source": "library(stats)", 
            "outputs": []
        }, 
        {
            "metadata": {
                "scrolled": true
            }, 
            "execution_count": 5, 
            "cell_type": "code", 
            "source": "iris", 
            "outputs": [
                {
                    "metadata": {}, 
                    "data": {
                        "text/html": "<table>\n<thead><tr><th scope=col>Sepal.Length</th><th scope=col>Sepal.Width</th><th scope=col>Petal.Length</th><th scope=col>Petal.Width</th><th scope=col>Species</th></tr></thead>\n<tbody>\n\t<tr><td>5.1   </td><td>3.5   </td><td>1.4   </td><td>0.2   </td><td>setosa</td></tr>\n\t<tr><td>4.9   </td><td>3.0   </td><td>1.4   </td><td>0.2   </td><td>setosa</td></tr>\n\t<tr><td>4.7   </td><td>3.2   </td><td>1.3   </td><td>0.2   </td><td>setosa</td></tr>\n\t<tr><td>4.6   </td><td>3.1   </td><td>1.5   </td><td>0.2   </td><td>setosa</td></tr>\n\t<tr><td>5.0   </td><td>3.6   </td><td>1.4   </td><td>0.2   </td><td>setosa</td></tr>\n\t<tr><td>5.4   </td><td>3.9   </td><td>1.7   </td><td>0.4   </td><td>setosa</td></tr>\n\t<tr><td>4.6   </td><td>3.4   </td><td>1.4   </td><td>0.3   </td><td>setosa</td></tr>\n\t<tr><td>5.0   </td><td>3.4   </td><td>1.5   </td><td>0.2   </td><td>setosa</td></tr>\n\t<tr><td>4.4   </td><td>2.9   </td><td>1.4   </td><td>0.2   </td><td>setosa</td></tr>\n\t<tr><td>4.9   </td><td>3.1   </td><td>1.5   </td><td>0.1   </td><td>setosa</td></tr>\n\t<tr><td>5.4   </td><td>3.7   </td><td>1.5   </td><td>0.2   </td><td>setosa</td></tr>\n\t<tr><td>4.8   </td><td>3.4   </td><td>1.6   </td><td>0.2   </td><td>setosa</td></tr>\n\t<tr><td>4.8   </td><td>3.0   </td><td>1.4   </td><td>0.1   </td><td>setosa</td></tr>\n\t<tr><td>4.3   </td><td>3.0   </td><td>1.1   </td><td>0.1   </td><td>setosa</td></tr>\n\t<tr><td>5.8   </td><td>4.0   </td><td>1.2   </td><td>0.2   </td><td>setosa</td></tr>\n\t<tr><td>5.7   </td><td>4.4   </td><td>1.5   </td><td>0.4   </td><td>setosa</td></tr>\n\t<tr><td>5.4   </td><td>3.9   </td><td>1.3   </td><td>0.4   </td><td>setosa</td></tr>\n\t<tr><td>5.1   </td><td>3.5   </td><td>1.4   </td><td>0.3   </td><td>setosa</td></tr>\n\t<tr><td>5.7   </td><td>3.8   </td><td>1.7   </td><td>0.3   </td><td>setosa</td></tr>\n\t<tr><td>5.1   </td><td>3.8   </td><td>1.5   </td><td>0.3   </td><td>setosa</td></tr>\n\t<tr><td>5.4   </td><td>3.4   </td><td>1.7   </td><td>0.2   </td><td>setosa</td></tr>\n\t<tr><td>5.1   </td><td>3.7   </td><td>1.5   </td><td>0.4   </td><td>setosa</td></tr>\n\t<tr><td>4.6   </td><td>3.6   </td><td>1.0   </td><td>0.2   </td><td>setosa</td></tr>\n\t<tr><td>5.1   </td><td>3.3   </td><td>1.7   </td><td>0.5   </td><td>setosa</td></tr>\n\t<tr><td>4.8   </td><td>3.4   </td><td>1.9   </td><td>0.2   </td><td>setosa</td></tr>\n\t<tr><td>5.0   </td><td>3.0   </td><td>1.6   </td><td>0.2   </td><td>setosa</td></tr>\n\t<tr><td>5.0   </td><td>3.4   </td><td>1.6   </td><td>0.4   </td><td>setosa</td></tr>\n\t<tr><td>5.2   </td><td>3.5   </td><td>1.5   </td><td>0.2   </td><td>setosa</td></tr>\n\t<tr><td>5.2   </td><td>3.4   </td><td>1.4   </td><td>0.2   </td><td>setosa</td></tr>\n\t<tr><td>4.7   </td><td>3.2   </td><td>1.6   </td><td>0.2   </td><td>setosa</td></tr>\n\t<tr><td>...</td><td>...</td><td>...</td><td>...</td><td>...</td></tr>\n\t<tr><td>6.9      </td><td>3.2      </td><td>5.7      </td><td>2.3      </td><td>virginica</td></tr>\n\t<tr><td>5.6      </td><td>2.8      </td><td>4.9      </td><td>2.0      </td><td>virginica</td></tr>\n\t<tr><td>7.7      </td><td>2.8      </td><td>6.7      </td><td>2.0      </td><td>virginica</td></tr>\n\t<tr><td>6.3      </td><td>2.7      </td><td>4.9      </td><td>1.8      </td><td>virginica</td></tr>\n\t<tr><td>6.7      </td><td>3.3      </td><td>5.7      </td><td>2.1      </td><td>virginica</td></tr>\n\t<tr><td>7.2      </td><td>3.2      </td><td>6.0      </td><td>1.8      </td><td>virginica</td></tr>\n\t<tr><td>6.2      </td><td>2.8      </td><td>4.8      </td><td>1.8      </td><td>virginica</td></tr>\n\t<tr><td>6.1      </td><td>3.0      </td><td>4.9      </td><td>1.8      </td><td>virginica</td></tr>\n\t<tr><td>6.4      </td><td>2.8      </td><td>5.6      </td><td>2.1      </td><td>virginica</td></tr>\n\t<tr><td>7.2      </td><td>3.0      </td><td>5.8      </td><td>1.6      </td><td>virginica</td></tr>\n\t<tr><td>7.4      </td><td>2.8      </td><td>6.1      </td><td>1.9      </td><td>virginica</td></tr>\n\t<tr><td>7.9      </td><td>3.8      </td><td>6.4      </td><td>2.0      </td><td>virginica</td></tr>\n\t<tr><td>6.4      </td><td>2.8      </td><td>5.6      </td><td>2.2      </td><td>virginica</td></tr>\n\t<tr><td>6.3      </td><td>2.8      </td><td>5.1      </td><td>1.5      </td><td>virginica</td></tr>\n\t<tr><td>6.1      </td><td>2.6      </td><td>5.6      </td><td>1.4      </td><td>virginica</td></tr>\n\t<tr><td>7.7      </td><td>3.0      </td><td>6.1      </td><td>2.3      </td><td>virginica</td></tr>\n\t<tr><td>6.3      </td><td>3.4      </td><td>5.6      </td><td>2.4      </td><td>virginica</td></tr>\n\t<tr><td>6.4      </td><td>3.1      </td><td>5.5      </td><td>1.8      </td><td>virginica</td></tr>\n\t<tr><td>6.0      </td><td>3.0      </td><td>4.8      </td><td>1.8      </td><td>virginica</td></tr>\n\t<tr><td>6.9      </td><td>3.1      </td><td>5.4      </td><td>2.1      </td><td>virginica</td></tr>\n\t<tr><td>6.7      </td><td>3.1      </td><td>5.6      </td><td>2.4      </td><td>virginica</td></tr>\n\t<tr><td>6.9      </td><td>3.1      </td><td>5.1      </td><td>2.3      </td><td>virginica</td></tr>\n\t<tr><td>5.8      </td><td>2.7      </td><td>5.1      </td><td>1.9      </td><td>virginica</td></tr>\n\t<tr><td>6.8      </td><td>3.2      </td><td>5.9      </td><td>2.3      </td><td>virginica</td></tr>\n\t<tr><td>6.7      </td><td>3.3      </td><td>5.7      </td><td>2.5      </td><td>virginica</td></tr>\n\t<tr><td>6.7      </td><td>3.0      </td><td>5.2      </td><td>2.3      </td><td>virginica</td></tr>\n\t<tr><td>6.3      </td><td>2.5      </td><td>5.0      </td><td>1.9      </td><td>virginica</td></tr>\n\t<tr><td>6.5      </td><td>3.0      </td><td>5.2      </td><td>2.0      </td><td>virginica</td></tr>\n\t<tr><td>6.2      </td><td>3.4      </td><td>5.4      </td><td>2.3      </td><td>virginica</td></tr>\n\t<tr><td>5.9      </td><td>3.0      </td><td>5.1      </td><td>1.8      </td><td>virginica</td></tr>\n</tbody>\n</table>\n", 
                        "text/latex": "\\begin{tabular}{r|lllll}\n Sepal.Length & Sepal.Width & Petal.Length & Petal.Width & Species\\\\\n\\hline\n\t 5.1    & 3.5    & 1.4    & 0.2    & setosa\\\\\n\t 4.9    & 3.0    & 1.4    & 0.2    & setosa\\\\\n\t 4.7    & 3.2    & 1.3    & 0.2    & setosa\\\\\n\t 4.6    & 3.1    & 1.5    & 0.2    & setosa\\\\\n\t 5.0    & 3.6    & 1.4    & 0.2    & setosa\\\\\n\t 5.4    & 3.9    & 1.7    & 0.4    & setosa\\\\\n\t 4.6    & 3.4    & 1.4    & 0.3    & setosa\\\\\n\t 5.0    & 3.4    & 1.5    & 0.2    & setosa\\\\\n\t 4.4    & 2.9    & 1.4    & 0.2    & setosa\\\\\n\t 4.9    & 3.1    & 1.5    & 0.1    & setosa\\\\\n\t 5.4    & 3.7    & 1.5    & 0.2    & setosa\\\\\n\t 4.8    & 3.4    & 1.6    & 0.2    & setosa\\\\\n\t 4.8    & 3.0    & 1.4    & 0.1    & setosa\\\\\n\t 4.3    & 3.0    & 1.1    & 0.1    & setosa\\\\\n\t 5.8    & 4.0    & 1.2    & 0.2    & setosa\\\\\n\t 5.7    & 4.4    & 1.5    & 0.4    & setosa\\\\\n\t 5.4    & 3.9    & 1.3    & 0.4    & setosa\\\\\n\t 5.1    & 3.5    & 1.4    & 0.3    & setosa\\\\\n\t 5.7    & 3.8    & 1.7    & 0.3    & setosa\\\\\n\t 5.1    & 3.8    & 1.5    & 0.3    & setosa\\\\\n\t 5.4    & 3.4    & 1.7    & 0.2    & setosa\\\\\n\t 5.1    & 3.7    & 1.5    & 0.4    & setosa\\\\\n\t 4.6    & 3.6    & 1.0    & 0.2    & setosa\\\\\n\t 5.1    & 3.3    & 1.7    & 0.5    & setosa\\\\\n\t 4.8    & 3.4    & 1.9    & 0.2    & setosa\\\\\n\t 5.0    & 3.0    & 1.6    & 0.2    & setosa\\\\\n\t 5.0    & 3.4    & 1.6    & 0.4    & setosa\\\\\n\t 5.2    & 3.5    & 1.5    & 0.2    & setosa\\\\\n\t 5.2    & 3.4    & 1.4    & 0.2    & setosa\\\\\n\t 4.7    & 3.2    & 1.6    & 0.2    & setosa\\\\\n\t ... & ... & ... & ... & ...\\\\\n\t 6.9       & 3.2       & 5.7       & 2.3       & virginica\\\\\n\t 5.6       & 2.8       & 4.9       & 2.0       & virginica\\\\\n\t 7.7       & 2.8       & 6.7       & 2.0       & virginica\\\\\n\t 6.3       & 2.7       & 4.9       & 1.8       & virginica\\\\\n\t 6.7       & 3.3       & 5.7       & 2.1       & virginica\\\\\n\t 7.2       & 3.2       & 6.0       & 1.8       & virginica\\\\\n\t 6.2       & 2.8       & 4.8       & 1.8       & virginica\\\\\n\t 6.1       & 3.0       & 4.9       & 1.8       & virginica\\\\\n\t 6.4       & 2.8       & 5.6       & 2.1       & virginica\\\\\n\t 7.2       & 3.0       & 5.8       & 1.6       & virginica\\\\\n\t 7.4       & 2.8       & 6.1       & 1.9       & virginica\\\\\n\t 7.9       & 3.8       & 6.4       & 2.0       & virginica\\\\\n\t 6.4       & 2.8       & 5.6       & 2.2       & virginica\\\\\n\t 6.3       & 2.8       & 5.1       & 1.5       & virginica\\\\\n\t 6.1       & 2.6       & 5.6       & 1.4       & virginica\\\\\n\t 7.7       & 3.0       & 6.1       & 2.3       & virginica\\\\\n\t 6.3       & 3.4       & 5.6       & 2.4       & virginica\\\\\n\t 6.4       & 3.1       & 5.5       & 1.8       & virginica\\\\\n\t 6.0       & 3.0       & 4.8       & 1.8       & virginica\\\\\n\t 6.9       & 3.1       & 5.4       & 2.1       & virginica\\\\\n\t 6.7       & 3.1       & 5.6       & 2.4       & virginica\\\\\n\t 6.9       & 3.1       & 5.1       & 2.3       & virginica\\\\\n\t 5.8       & 2.7       & 5.1       & 1.9       & virginica\\\\\n\t 6.8       & 3.2       & 5.9       & 2.3       & virginica\\\\\n\t 6.7       & 3.3       & 5.7       & 2.5       & virginica\\\\\n\t 6.7       & 3.0       & 5.2       & 2.3       & virginica\\\\\n\t 6.3       & 2.5       & 5.0       & 1.9       & virginica\\\\\n\t 6.5       & 3.0       & 5.2       & 2.0       & virginica\\\\\n\t 6.2       & 3.4       & 5.4       & 2.3       & virginica\\\\\n\t 5.9       & 3.0       & 5.1       & 1.8       & virginica\\\\\n\\end{tabular}\n", 
                        "text/plain": "    Sepal.Length Sepal.Width Petal.Length Petal.Width Species  \n1   5.1          3.5         1.4          0.2         setosa   \n2   4.9          3.0         1.4          0.2         setosa   \n3   4.7          3.2         1.3          0.2         setosa   \n4   4.6          3.1         1.5          0.2         setosa   \n5   5.0          3.6         1.4          0.2         setosa   \n6   5.4          3.9         1.7          0.4         setosa   \n7   4.6          3.4         1.4          0.3         setosa   \n8   5.0          3.4         1.5          0.2         setosa   \n9   4.4          2.9         1.4          0.2         setosa   \n10  4.9          3.1         1.5          0.1         setosa   \n11  5.4          3.7         1.5          0.2         setosa   \n12  4.8          3.4         1.6          0.2         setosa   \n13  4.8          3.0         1.4          0.1         setosa   \n14  4.3          3.0         1.1          0.1         setosa   \n15  5.8          4.0         1.2          0.2         setosa   \n16  5.7          4.4         1.5          0.4         setosa   \n17  5.4          3.9         1.3          0.4         setosa   \n18  5.1          3.5         1.4          0.3         setosa   \n19  5.7          3.8         1.7          0.3         setosa   \n20  5.1          3.8         1.5          0.3         setosa   \n21  5.4          3.4         1.7          0.2         setosa   \n22  5.1          3.7         1.5          0.4         setosa   \n23  4.6          3.6         1.0          0.2         setosa   \n24  5.1          3.3         1.7          0.5         setosa   \n25  4.8          3.4         1.9          0.2         setosa   \n26  5.0          3.0         1.6          0.2         setosa   \n27  5.0          3.4         1.6          0.4         setosa   \n28  5.2          3.5         1.5          0.2         setosa   \n29  5.2          3.4         1.4          0.2         setosa   \n30  4.7          3.2         1.6          0.2         setosa   \n... ...          ...         ...          ...         ...      \n121 6.9          3.2         5.7          2.3         virginica\n122 5.6          2.8         4.9          2.0         virginica\n123 7.7          2.8         6.7          2.0         virginica\n124 6.3          2.7         4.9          1.8         virginica\n125 6.7          3.3         5.7          2.1         virginica\n126 7.2          3.2         6.0          1.8         virginica\n127 6.2          2.8         4.8          1.8         virginica\n128 6.1          3.0         4.9          1.8         virginica\n129 6.4          2.8         5.6          2.1         virginica\n130 7.2          3.0         5.8          1.6         virginica\n131 7.4          2.8         6.1          1.9         virginica\n132 7.9          3.8         6.4          2.0         virginica\n133 6.4          2.8         5.6          2.2         virginica\n134 6.3          2.8         5.1          1.5         virginica\n135 6.1          2.6         5.6          1.4         virginica\n136 7.7          3.0         6.1          2.3         virginica\n137 6.3          3.4         5.6          2.4         virginica\n138 6.4          3.1         5.5          1.8         virginica\n139 6.0          3.0         4.8          1.8         virginica\n140 6.9          3.1         5.4          2.1         virginica\n141 6.7          3.1         5.6          2.4         virginica\n142 6.9          3.1         5.1          2.3         virginica\n143 5.8          2.7         5.1          1.9         virginica\n144 6.8          3.2         5.9          2.3         virginica\n145 6.7          3.3         5.7          2.5         virginica\n146 6.7          3.0         5.2          2.3         virginica\n147 6.3          2.5         5.0          1.9         virginica\n148 6.5          3.0         5.2          2.0         virginica\n149 6.2          3.4         5.4          2.3         virginica\n150 5.9          3.0         5.1          1.8         virginica"
                    }, 
                    "output_type": "display_data"
                }
            ]
        }, 
        {
            "metadata": {}, 
            "execution_count": 6, 
            "cell_type": "code", 
            "source": "library(tidyverse)", 
            "outputs": [
                {
                    "ename": "ERROR", 
                    "evalue": "Error in library(tidyverse): there is no package called \u2018tidyverse\u2019\n", 
                    "traceback": [
                        "Error in library(tidyverse): there is no package called \u2018tidyverse\u2019\nTraceback:\n", 
                        "1. library(tidyverse)", 
                        "2. stop(txt, domain = NA)"
                    ], 
                    "output_type": "error"
                }
            ]
        }, 
        {
            "metadata": {}, 
            "execution_count": 7, 
            "cell_type": "code", 
            "source": "library(dplyr)", 
            "outputs": [
                {
                    "name": "stderr", 
                    "output_type": "stream", 
                    "text": "\nAttaching package: \u2018dplyr\u2019\n\nThe following objects are masked from \u2018package:SparkR\u2019:\n\n    arrange, between, collect, count, cume_dist, dense_rank, desc,\n    distinct, explain, filter, first, group_by, intersect, lag, last,\n    lead, mutate, n, n_distinct, ntile, percent_rank, rename,\n    row_number, sample_frac, select, sql, summarize, union\n\nThe following objects are masked from \u2018package:stats\u2019:\n\n    filter, lag\n\nThe following objects are masked from \u2018package:base\u2019:\n\n    intersect, setdiff, setequal, union\n\n"
                }
            ]
        }, 
        {
            "metadata": {}, 
            "execution_count": 8, 
            "cell_type": "code", 
            "source": "glimpse(iris)", 
            "outputs": [
                {
                    "name": "stdout", 
                    "output_type": "stream", 
                    "text": "Observations: 150\nVariables: 5\n$ Sepal.Length (dbl) 5.1, 4.9, 4.7, 4.6, 5.0, 5.4, 4.6, 5.0, 4.4, 4.9, 5.4,...\n$ Sepal.Width  (dbl) 3.5, 3.0, 3.2, 3.1, 3.6, 3.9, 3.4, 3.4, 2.9, 3.1, 3.7,...\n$ Petal.Length (dbl) 1.4, 1.4, 1.3, 1.5, 1.4, 1.7, 1.4, 1.5, 1.4, 1.5, 1.5,...\n$ Petal.Width  (dbl) 0.2, 0.2, 0.2, 0.2, 0.2, 0.4, 0.3, 0.2, 0.2, 0.1, 0.2,...\n$ Species      (fctr) setosa, setosa, setosa, setosa, setosa, setosa, setos...\n"
                }
            ]
        }, 
        {
            "metadata": {}, 
            "execution_count": 9, 
            "cell_type": "code", 
            "source": "summary(iris)", 
            "outputs": [
                {
                    "metadata": {}, 
                    "data": {
                        "text/plain": "  Sepal.Length    Sepal.Width     Petal.Length    Petal.Width   \n Min.   :4.300   Min.   :2.000   Min.   :1.000   Min.   :0.100  \n 1st Qu.:5.100   1st Qu.:2.800   1st Qu.:1.600   1st Qu.:0.300  \n Median :5.800   Median :3.000   Median :4.350   Median :1.300  \n Mean   :5.843   Mean   :3.057   Mean   :3.758   Mean   :1.199  \n 3rd Qu.:6.400   3rd Qu.:3.300   3rd Qu.:5.100   3rd Qu.:1.800  \n Max.   :7.900   Max.   :4.400   Max.   :6.900   Max.   :2.500  \n       Species  \n setosa    :50  \n versicolor:50  \n virginica :50  \n                \n                \n                "
                    }, 
                    "output_type": "display_data"
                }
            ]
        }, 
        {
            "metadata": {}, 
            "execution_count": 10, 
            "cell_type": "code", 
            "source": "View(iris)", 
            "outputs": [
                {
                    "ename": "ERROR", 
                    "evalue": "Error in View(iris): \u2018View()\u2019 not yet supported in the Jupyter R kernel\n", 
                    "traceback": [
                        "Error in View(iris): \u2018View()\u2019 not yet supported in the Jupyter R kernel\nTraceback:\n", 
                        "1. View(iris)", 
                        "2. stop(sQuote(\"View()\"), \" not yet supported in the Jupyter R kernel\")"
                    ], 
                    "output_type": "error"
                }
            ]
        }, 
        {
            "metadata": {}, 
            "execution_count": null, 
            "cell_type": "code", 
            "source": "", 
            "outputs": []
        }
    ], 
    "nbformat_minor": 1
}